{
 "cells": [
  {
   "cell_type": "markdown",
   "metadata": {},
   "source": [
    "###  Card Validator \n",
    "Takes in a credit card number from a common credit card vendor (Visa, MasterCard, American Express, Discoverer) and validates it to make sure that it is a valid number (look into how credit cards use a checksum)."
   ]
  },
  {
   "cell_type": "markdown",
   "metadata": {},
   "source": [
    "### Pseudocode From Wikipedia"
   ]
  },
  {
   "cell_type": "raw",
   "metadata": {},
   "source": [
    " function checkLuhn(string purportedCC) {\n",
    "    int sum := integer(purportedCC[length(purportedCC)-1])\n",
    "    int nDigits := length(purportedCC)\n",
    "    int parity := nDigits modulus 2\n",
    "    for i from 0 to nDigits - 1 {\n",
    "        int digit := integer(purportedCC[i])\n",
    "        if i modulus 2 = parity\n",
    "            digit := digit × 2\n",
    "        if digit > 9\n",
    "            digit := digit - 9 \n",
    "        sum := sum + digit\n",
    "    }\n",
    "    return (sum modulus 10) = 0\n",
    "  }"
   ]
  },
  {
   "cell_type": "code",
   "execution_count": 18,
   "metadata": {},
   "outputs": [],
   "source": [
    "def genLuhn(x):\n",
    "    addition = 0\n",
    "    parity = len(x) % 2\n",
    "   \n",
    "    for i in range(len(x)):\n",
    "        # Check if i is equal to parity\n",
    "        digit = int(x[i])\n",
    "        if i % 2 == parity:\n",
    "            digit = digit * 2\n",
    "        if digit > 9:\n",
    "            digit -= 9\n",
    "        addition += digit\n",
    "    return addition"
   ]
  },
  {
   "cell_type": "code",
   "execution_count": 30,
   "metadata": {},
   "outputs": [
    {
     "name": "stdout",
     "output_type": "stream",
     "text": [
      "Please enter a credit card number445646413213131\n"
     ]
    }
   ],
   "source": [
    "card_num = [int(x) for x in input('Please enter a credit card number').split()]\n",
    "str_card = ''.join(map(str, card_num))"
   ]
  },
  {
   "cell_type": "code",
   "execution_count": 31,
   "metadata": {},
   "outputs": [
    {
     "name": "stdout",
     "output_type": "stream",
     "text": [
      "This card is invalid\n"
     ]
    }
   ],
   "source": [
    "if (genLuhn(str_card) % 10) == 0:\n",
    "    print('This card is valid')\n",
    "else:\n",
    "    print('This card is invalid')"
   ]
  },
  {
   "cell_type": "code",
   "execution_count": 14,
   "metadata": {
    "scrolled": true
   },
   "outputs": [
    {
     "data": {
      "text/plain": [
       "0"
      ]
     },
     "execution_count": 14,
     "metadata": {},
     "output_type": "execute_result"
    }
   ],
   "source": [
    "len(str_card) % 2"
   ]
  }
 ],
 "metadata": {
  "kernelspec": {
   "display_name": "Python 3",
   "language": "python",
   "name": "python3"
  },
  "language_info": {
   "codemirror_mode": {
    "name": "ipython",
    "version": 3
   },
   "file_extension": ".py",
   "mimetype": "text/x-python",
   "name": "python",
   "nbconvert_exporter": "python",
   "pygments_lexer": "ipython3",
   "version": "3.6.4"
  }
 },
 "nbformat": 4,
 "nbformat_minor": 2
}
