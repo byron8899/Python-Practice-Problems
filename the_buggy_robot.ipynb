{
 "cells": [
  {
   "cell_type": "markdown",
   "metadata": {},
   "source": [
    "### __The Buggy Robot__"
   ]
  },
  {
   "cell_type": "code",
   "execution_count": null,
   "metadata": {},
   "outputs": [],
   "source": [
    "# by byron luo\n",
    "# Write a program to find the total distance does the robot cover if it needs to reach K meters from \n",
    "# the starting point\n",
    "# https://practice.geeksforgeeks.org/problems/the-buggy-robot/0"
   ]
  },
  {
   "cell_type": "markdown",
   "metadata": {},
   "source": [
    "#### N  = Meters Forward\n",
    "#### M = Meters Backward\n",
    "#### k = Expected Meters from the starting point"
   ]
  },
  {
   "cell_type": "code",
   "execution_count": 1,
   "metadata": {},
   "outputs": [],
   "source": [
    "def robotCalc(test):\n",
    "    # robot starts to move\n",
    "    total_dist = 0\n",
    "    N = test[0]\n",
    "    M = test[1]\n",
    "    k = test[2]# 'k' is the expected distance from the starting point in meters\n",
    "    position = 0\n",
    "    subtraction = 0\n",
    "    while (True):\n",
    "        # Begin movement\n",
    "           \n",
    "        # Forwards\n",
    "        position = position + N\n",
    "        total_dist += N\n",
    "        # Check if position is greater than k\n",
    "        if(position > k):\n",
    "            subtraction = position - k\n",
    "            position -= subtraction\n",
    "            total_dist -= subtraction\n",
    "            # loop breaks if the k is met\n",
    "            return total_dist\n",
    "        elif(position == k):\n",
    "            return total_dist\n",
    "        else:\n",
    "            #Continues to calculate backwards\n",
    "            pass\n",
    "        position = position - M\n",
    "        total_dist = total_dist - (-M)\n",
    "        \n",
    "    \n",
    "        "
   ]
  },
  {
   "cell_type": "code",
   "execution_count": 6,
   "metadata": {},
   "outputs": [
    {
     "name": "stdout",
     "output_type": "stream",
     "text": [
      "2\n",
      "5 2 9\n",
      "17\n",
      "8 7 9\n",
      "23\n"
     ]
    }
   ],
   "source": [
    "testCase = input()\n",
    "\n",
    "\n",
    "for t in range(int(testCase)):\n",
    "    num = [int(x) for x in input().split()]\n",
    "    print(robotCalc(num))"
   ]
  },
  {
   "cell_type": "raw",
   "metadata": {},
   "source": []
  },
  {
   "cell_type": "code",
   "execution_count": 3,
   "metadata": {},
   "outputs": [
    {
     "data": {
      "text/plain": [
       "23"
      ]
     },
     "execution_count": 3,
     "metadata": {},
     "output_type": "execute_result"
    }
   ],
   "source": [
    "robotCalc(num)"
   ]
  },
  {
   "cell_type": "code",
   "execution_count": 4,
   "metadata": {},
   "outputs": [
    {
     "data": {
      "text/plain": [
       "[8, 7, 9]"
      ]
     },
     "execution_count": 4,
     "metadata": {},
     "output_type": "execute_result"
    }
   ],
   "source": [
    "num"
   ]
  },
  {
   "cell_type": "code",
   "execution_count": null,
   "metadata": {},
   "outputs": [],
   "source": []
  }
 ],
 "metadata": {
  "kernelspec": {
   "display_name": "Python 3",
   "language": "python",
   "name": "python3"
  },
  "language_info": {
   "codemirror_mode": {
    "name": "ipython",
    "version": 3
   },
   "file_extension": ".py",
   "mimetype": "text/x-python",
   "name": "python",
   "nbconvert_exporter": "python",
   "pygments_lexer": "ipython3",
   "version": "3.6.4"
  }
 },
 "nbformat": 4,
 "nbformat_minor": 2
}
