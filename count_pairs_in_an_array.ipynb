{
 "cells": [
  {
   "cell_type": "markdown",
   "metadata": {},
   "source": [
    "Given an array of integers arr[0..n-1], count all pairs (arr[i], arr[j]) in it such that i*arr[i] > j*arr[j], 0 =< i < j < n."
   ]
  },
  {
   "cell_type": "code",
   "execution_count": null,
   "metadata": {},
   "outputs": [],
   "source": [
    "'''\n",
    "Example:\n",
    "Input: arr[] = {5, 0, 10, 2, 4, 1, 6}\n",
    "\n",
    "Output: 5\n",
    "\n",
    "Pairs which hold condition i*arr[i] > j*arr[j] are\n",
    "(10, 2) (10, 4) (10, 1) (2, 1) (4, 1)\n",
    "'''"
   ]
  },
  {
   "cell_type": "code",
   "execution_count": 1,
   "metadata": {},
   "outputs": [
    {
     "name": "stdout",
     "output_type": "stream",
     "text": [
      "2\n",
      "7\n",
      "5 0 10 2 4 1 6\n",
      "5\n",
      "4\n",
      "8 4 2 1\n",
      "2\n"
     ]
    }
   ],
   "source": [
    "def computeCountPairs(arr, num):\n",
    "    count = 0\n",
    "    for i in range(0,num):\n",
    "        for j in range(i+1,num):\n",
    "            if i*arr[i] > j*arr[j]:\n",
    "                 count+= 1\n",
    "    print (count)\n",
    "\n",
    "                 \n",
    "testCase = input()\n",
    "\n",
    "for t in range(int(testCase)):\n",
    "    num = int(input())\n",
    "    arr = [int(x) for x in input().split()]\n",
    "    computeCountPairs(arr, num)"
   ]
  },
  {
   "cell_type": "code",
   "execution_count": null,
   "metadata": {},
   "outputs": [],
   "source": []
  }
 ],
 "metadata": {
  "kernelspec": {
   "display_name": "Python 3",
   "language": "python",
   "name": "python3"
  },
  "language_info": {
   "codemirror_mode": {
    "name": "ipython",
    "version": 3
   },
   "file_extension": ".py",
   "mimetype": "text/x-python",
   "name": "python",
   "nbconvert_exporter": "python",
   "pygments_lexer": "ipython3",
   "version": "3.6.4"
  }
 },
 "nbformat": 4,
 "nbformat_minor": 2
}
